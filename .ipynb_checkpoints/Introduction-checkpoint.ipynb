{
 "metadata": {
  "name": "",
  "signature": "sha256:3ce2a3f0d5ed77151275ca40852b2a6d8895adb4b0f5c7af09d2ff4699c559bf"
 },
 "nbformat": 3,
 "nbformat_minor": 0,
 "worksheets": [
  {
   "cells": [
    {
     "cell_type": "heading",
     "level": 3,
     "metadata": {},
     "source": [
      "Introduction"
     ]
    },
    {
     "cell_type": "markdown",
     "metadata": {},
     "source": [
      "Machine learning concerns the construction and study of systems that can learn from data via exploiting certain types of structure within these. The uncovered patterns are then used to predict future data, or to perform other kinds of decision making. Two main classes (among others) of Machine Learning algorithms are: \n",
      "\n",
      "* predictive or [supervised](http://en.wikipedia.org/wiki/Supervised_learning) learning\n",
      "* descriptive or [Unsupervised](http://en.wikipedia.org/wiki/Unsupervised_learning) learning.\n",
      "\n",
      "Shogun provides functionality to address those (and more) problem classes."
     ]
    },
    {
     "cell_type": "heading",
     "level": 3,
     "metadata": {},
     "source": [
      "Data in Shogun"
     ]
    },
    {
     "cell_type": "markdown",
     "metadata": {},
     "source": [
      "Data in Shogun is assumed to be stored as a **two-dimensional array**, of size `[n_features, n_samples]`."
     ]
    },
    {
     "cell_type": "markdown",
     "metadata": {},
     "source": [
      "Most machine learning algorithms implemented in Shogun expect data to be stored as a ```Features``` object. It can be either:\n",
      "\n",
      "* Dense Features ```RealFeatures```\n",
      "* Sparse Features ```SpareRealFeatures```\n",
      "* String Features ```StringRealFeatures```\n",
      "* ..\n",
      "\n",
      "These objects can be instantiated by ``numpy`` arrays\n",
      "The size of the array is expected to be `[n_features, n_samples]`\n",
      "\n",
      "- **n_samples:**   The number of samples: each sample is an item to process (e.g. classify).\n",
      "  A sample can be a document, a picture, a sound, a video, an astronomical object,\n",
      "  a row in database or CSV file,\n",
      "  or whatever you can describe with a fixed set of quantitative traits.\n",
      "- **n_features:**  The number of features or distinct traits that can be used to describe each\n",
      "  item in a quantitative manner.  Features are generally real-valued, but may be boolean or\n",
      "  discrete-valued in some cases.\n",
      "\n",
      "The number of features must be fixed in advance. However it can be very high dimensional\n",
      "(e.g. millions of features) with most of them being zeros for a given sample. This is a case\n",
      "where `scipy.sparse` matrices can be useful, in that they are\n",
      "much more memory-efficient than numpy arrays."
     ]
    },
    {
     "cell_type": "code",
     "collapsed": false,
     "input": [],
     "language": "python",
     "metadata": {},
     "outputs": []
    }
   ],
   "metadata": {}
  }
 ]
}